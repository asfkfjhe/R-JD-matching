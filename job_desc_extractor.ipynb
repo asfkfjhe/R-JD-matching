{
 "cells": [
  {
   "cell_type": "code",
   "execution_count": 1,
   "metadata": {},
   "outputs": [
    {
     "name": "stderr",
     "output_type": "stream",
     "text": [
      "/home/supriya/anaconda3/lib/python3.11/site-packages/pandas/core/arrays/masked.py:60: UserWarning: Pandas requires version '1.3.6' or newer of 'bottleneck' (version '1.3.5' currently installed).\n",
      "  from pandas.core import (\n"
     ]
    }
   ],
   "source": [
    "import pandas as pd\n",
    "from datasets import load_dataset\n",
    "\n"
   ]
  },
  {
   "cell_type": "code",
   "execution_count": 11,
   "metadata": {},
   "outputs": [],
   "source": [
    "def save_job_descriptions_to_csv(output_file, num_descriptions):\n",
    "    try:\n",
    "        # Load the job descriptions dataset from Hugging Face\n",
    "        dataset = load_dataset(\"jacob-hugging-face/job-descriptions\", split='train[:{}]'.format(num_descriptions))\n",
    "\n",
    "        # Create a DataFrame\n",
    "        df = pd.DataFrame({\n",
    "            \"Company Name\": dataset[\"company_name\"],\n",
    "            \"Job Description\": dataset[\"job_description\"],\n",
    "            \"Position Title\": dataset[\"position_title\"]\n",
    "        })\n",
    "\n",
    "        # Save the DataFrame to a CSV file\n",
    "        df.to_csv(output_file, index=False)\n",
    "\n",
    "        print(f\"{num_descriptions} job descriptions saved to {output_file}\")\n",
    "    except Exception as e:\n",
    "        print(\"Error:\", str(e))"
   ]
  },
  {
   "cell_type": "code",
   "execution_count": 13,
   "metadata": {},
   "outputs": [],
   "source": [
    "\n",
    "def main():\n",
    "    save_job_descriptions_to_csv(output_file=\"job_descriptions.csv\", num_descriptions=50)\n",
    "\n"
   ]
  },
  {
   "cell_type": "code",
   "execution_count": 15,
   "metadata": {},
   "outputs": [
    {
     "name": "stdout",
     "output_type": "stream",
     "text": [
      "Error: Invalid pattern: '**' can only be an entire path component\n"
     ]
    }
   ],
   "source": [
    "if __name__ == '__main__':\n",
    "    main()\n"
   ]
  }
 ],
 "metadata": {
  "kernelspec": {
   "display_name": "base",
   "language": "python",
   "name": "python3"
  },
  "language_info": {
   "codemirror_mode": {
    "name": "ipython",
    "version": 3
   },
   "file_extension": ".py",
   "mimetype": "text/x-python",
   "name": "python",
   "nbconvert_exporter": "python",
   "pygments_lexer": "ipython3",
   "version": "3.11.5"
  }
 },
 "nbformat": 4,
 "nbformat_minor": 2
}
