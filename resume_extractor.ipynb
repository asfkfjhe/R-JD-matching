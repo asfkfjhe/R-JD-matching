{
 "cells": [
  {
   "cell_type": "code",
   "execution_count": 3,
   "metadata": {},
   "outputs": [
    {
     "ename": "ModuleNotFoundError",
     "evalue": "No module named 'PIL'",
     "output_type": "error",
     "traceback": [
      "\u001b[0;31m---------------------------------------------------------------------------\u001b[0m",
      "\u001b[0;31mModuleNotFoundError\u001b[0m                       Traceback (most recent call last)",
      "\u001b[1;32m/home/supriya/Desktop/R-JD-matching/resume_extractor.ipynb Cell 1\u001b[0m line \u001b[0;36m1\n\u001b[0;32m----> <a href='vscode-notebook-cell:/home/supriya/Desktop/R-JD-matching/resume_extractor.ipynb#W0sZmlsZQ%3D%3D?line=0'>1</a>\u001b[0m \u001b[39mfrom\u001b[39;00m \u001b[39mPIL\u001b[39;00m \u001b[39mimport\u001b[39;00m Image\n\u001b[1;32m      <a href='vscode-notebook-cell:/home/supriya/Desktop/R-JD-matching/resume_extractor.ipynb#W0sZmlsZQ%3D%3D?line=2'>3</a>\u001b[0m \u001b[39mimport\u001b[39;00m \u001b[39mpytesseract\u001b[39;00m\n",
      "\u001b[0;31mModuleNotFoundError\u001b[0m: No module named 'PIL'"
     ]
    }
   ],
   "source": [
    "from PIL import Image\n",
    "\n",
    "import pytesseract\n",
    "\n"
   ]
  },
  {
   "cell_type": "code",
   "execution_count": null,
   "metadata": {},
   "outputs": [],
   "source": [
    "# If you don't have tesseract executable in your PATH, include the following:\n",
    "pytesseract.pytesseract.tesseract_cmd = r'/usr/bin/tesseract'\n",
    "# Example tesseract_cmd = r'C:\\Program Files (x86)\\Tesseract-OCR\\tesseract'\n"
   ]
  },
  {
   "cell_type": "code",
   "execution_count": null,
   "metadata": {},
   "outputs": [],
   "source": [
    "\n",
    "# Simple image to string\n",
    "text = pytesseract.image_to_string(Image.open('test.png'), lang= 'eng')\n"
   ]
  },
  {
   "cell_type": "code",
   "execution_count": null,
   "metadata": {},
   "outputs": [],
   "source": [
    "# # List of available languages\n",
    "# print(pytesseract.get_languages(config=''))\n",
    "\n"
   ]
  },
  {
   "cell_type": "code",
   "execution_count": null,
   "metadata": {},
   "outputs": [],
   "source": [
    "\n",
    "# # Batch processing with a single file containing the list of multiple image file paths\n",
    "# print(pytesseract.image_to_string('images.txt'))\n",
    "\n",
    "# # Timeout/terminate the tesseract job after a period of time\n",
    "# try:\n",
    "#     print(pytesseract.image_to_string('test.jpg', timeout=2)) # Timeout after 2 seconds\n",
    "#     print(pytesseract.image_to_string('test.jpg', timeout=0.5)) # Timeout after half a second\n",
    "# except RuntimeError as timeout_error:\n",
    "#     # Tesseract processing is terminated\n",
    "#     pass\n",
    "\n",
    "# # Get bounding box estimates\n",
    "# print(pytesseract.image_to_boxes(Image.open('test.png')))\n",
    "\n",
    "# # Get verbose data including boxes, confidences, line and page numbers\n",
    "# print(pytesseract.image_to_data(Image.open('test.png')))\n",
    "\n",
    "# # Get information about orientation and script detection\n",
    "# print(pytesseract.image_to_osd(Image.open('test.png')))\n",
    "\n",
    "\n",
    "# # Get a searchable PDF\n",
    "# pdf = pytesseract.image_to_pdf_or_hocr('test.png', extension='pdf')\n",
    "# with open('test.pdf', 'w+b') as f:\n",
    "#     f.write(pdf) # pdf type is bytes by default\n",
    "\n",
    "# # Get HOCR output\n",
    "# hocr = pytesseract.image_to_pdf_or_hocr('test.png', extension='hocr')\n",
    "\n",
    "# # Get ALTO XML output\n",
    "# xml = pytesseract.image_to_alto_xml('test.png')"
   ]
  },
  {
   "cell_type": "code",
   "execution_count": 4,
   "metadata": {},
   "outputs": [
    {
     "ename": "ModuleNotFoundError",
     "evalue": "No module named 'PyPDF2'",
     "output_type": "error",
     "traceback": [
      "\u001b[0;31m---------------------------------------------------------------------------\u001b[0m",
      "\u001b[0;31mModuleNotFoundError\u001b[0m                       Traceback (most recent call last)",
      "\u001b[1;32m/home/supriya/Desktop/R-JD-matching/resume_extractor.ipynb Cell 6\u001b[0m line \u001b[0;36m3\n\u001b[1;32m      <a href='vscode-notebook-cell:/home/supriya/Desktop/R-JD-matching/resume_extractor.ipynb#W5sZmlsZQ%3D%3D?line=0'>1</a>\u001b[0m \u001b[39mimport\u001b[39;00m \u001b[39mos\u001b[39;00m\n\u001b[1;32m      <a href='vscode-notebook-cell:/home/supriya/Desktop/R-JD-matching/resume_extractor.ipynb#W5sZmlsZQ%3D%3D?line=1'>2</a>\u001b[0m \u001b[39mimport\u001b[39;00m \u001b[39mcsv\u001b[39;00m\n\u001b[0;32m----> <a href='vscode-notebook-cell:/home/supriya/Desktop/R-JD-matching/resume_extractor.ipynb#W5sZmlsZQ%3D%3D?line=2'>3</a>\u001b[0m \u001b[39mfrom\u001b[39;00m \u001b[39mPyPDF2\u001b[39;00m \u001b[39mimport\u001b[39;00m PdfReader\n\u001b[1;32m      <a href='vscode-notebook-cell:/home/supriya/Desktop/R-JD-matching/resume_extractor.ipynb#W5sZmlsZQ%3D%3D?line=3'>4</a>\u001b[0m \u001b[39mimport\u001b[39;00m \u001b[39mspacy\u001b[39;00m\n\u001b[1;32m      <a href='vscode-notebook-cell:/home/supriya/Desktop/R-JD-matching/resume_extractor.ipynb#W5sZmlsZQ%3D%3D?line=4'>5</a>\u001b[0m \u001b[39mimport\u001b[39;00m \u001b[39mre\u001b[39;00m\n",
      "\u001b[0;31mModuleNotFoundError\u001b[0m: No module named 'PyPDF2'"
     ]
    }
   ],
   "source": [
    "import os\n",
    "import csv\n",
    "from PyPDF2 import PdfReader\n",
    "import spacy\n",
    "import re\n",
    "import yake"
   ]
  },
  {
   "cell_type": "code",
   "execution_count": null,
   "metadata": {},
   "outputs": [],
   "source": [
    "def extract_text_from_pdf(pdf_file_path):\n",
    "    try:\n",
    "        reader = PdfReader(pdf_file_path)\n",
    "        text = \"\"\n",
    "        for page in reader.pages:\n",
    "            text += page.extract_text()\n",
    "        return text\n",
    "    except Exception as e:\n",
    "        print(\"Error:\", str(e))\n",
    "        return None\n"
   ]
  },
  {
   "cell_type": "code",
   "execution_count": null,
   "metadata": {},
   "outputs": [],
   "source": [
    "text = extract_text_from_pdf('/home/supriya/Desktop/FDV/Resume-Parser/data/AI/resume.pdf')"
   ]
  },
  {
   "cell_type": "code",
   "execution_count": null,
   "metadata": {},
   "outputs": [],
   "source": [
    "def preprocess_text(text):\n",
    "    text = text.lower()\n",
    "    text = re.sub(r'[^\\w\\s]', ' ', text)\n",
    "    text = re.sub(r'\\n', ' ', text)\n",
    "\n",
    "    return text \n"
   ]
  },
  {
   "cell_type": "code",
   "execution_count": null,
   "metadata": {},
   "outputs": [],
   "source": [
    "preprocessed_text = preprocess_text(text)"
   ]
  },
  {
   "cell_type": "markdown",
   "metadata": {},
   "source": [
    "### KeyBERT"
   ]
  },
  {
   "cell_type": "code",
   "execution_count": null,
   "metadata": {},
   "outputs": [],
   "source": [
    "# from keybert import KeyBERT\n",
    "# kw_model = KeyBERT()\n",
    "# keywords = kw_model.extract_keywords(preprocessed_text)\n",
    "# key_list = keywords(preprocessed_text)\n",
    "# print(key_list)\n",
    "# print(keywords)"
   ]
  },
  {
   "cell_type": "code",
   "execution_count": null,
   "metadata": {},
   "outputs": [],
   "source": [
    "def extract_skills_keywords(text):\n",
    "    keyword_extractor = yake.KeywordExtractor()\n",
    "\n",
    "    skill_keywords_extracted = keyword_extractor.extract_keywords(text)\n",
    "\n",
    "    skill_keywords = [keyword for keyword, score in skill_keywords_extracted]\n",
    "\n",
    "    return skill_keywords"
   ]
  },
  {
   "cell_type": "code",
   "execution_count": null,
   "metadata": {},
   "outputs": [
    {
     "data": {
      "text/plain": [
       "['achievements tasks achievements',\n",
       " 'tasks achievements tasks',\n",
       " 'supriya thapa bhujel',\n",
       " 'data science enthusiast',\n",
       " 'machine learning deep',\n",
       " 'learning deep learning',\n",
       " 'deep steganography learning',\n",
       " 'deep learning techniques',\n",
       " 'deep learning president',\n",
       " 'game deep steganography',\n",
       " 'deep steganography applying',\n",
       " 'work achievements tasks',\n",
       " 'deep learning linux',\n",
       " 'deep reinforcement learning',\n",
       " 'reinforcement learning deep',\n",
       " 'machine learning microdegree',\n",
       " 'present nepal experienced',\n",
       " 'ﬂare prediction deep',\n",
       " 'machine learning model',\n",
       " 'advanced machine learning']"
      ]
     },
     "execution_count": 9,
     "metadata": {},
     "output_type": "execute_result"
    }
   ],
   "source": [
    "extract_skills_keywords(preprocessed_text)"
   ]
  },
  {
   "cell_type": "code",
   "execution_count": 1,
   "metadata": {},
   "outputs": [
    {
     "name": "stderr",
     "output_type": "stream",
     "text": [
      "/home/supriya/anaconda3/lib/python3.11/site-packages/pandas/core/arrays/masked.py:60: UserWarning: Pandas requires version '1.3.6' or newer of 'bottleneck' (version '1.3.5' currently installed).\n",
      "  from pandas.core import (\n",
      "/home/supriya/anaconda3/lib/python3.11/site-packages/spacy/util.py:910: UserWarning: [W095] Model 'en_core_web_sm' (2.3.1) was trained with spaCy v2.3.0 and may not be 100% compatible with the current version (3.7.4). If you see errors or degraded performance, download a newer compatible model or retrain your custom model with the current spaCy version. For more details and available updates, run: python -m spacy validate\n",
      "  warnings.warn(warn_msg)\n"
     ]
    },
    {
     "ename": "OSError",
     "evalue": "[E053] Could not read config file from /home/supriya/anaconda3/lib/python3.11/site-packages/en_core_web_sm/en_core_web_sm-2.3.1/config.cfg",
     "output_type": "error",
     "traceback": [
      "\u001b[0;31m---------------------------------------------------------------------------\u001b[0m",
      "\u001b[0;31mOSError\u001b[0m                                   Traceback (most recent call last)",
      "\u001b[1;32m/home/supriya/Desktop/R-JD-matching/resume_extractor.ipynb Cell 15\u001b[0m line \u001b[0;36m2\n\u001b[1;32m      <a href='vscode-notebook-cell:/home/supriya/Desktop/R-JD-matching/resume_extractor.ipynb#X45sZmlsZQ%3D%3D?line=0'>1</a>\u001b[0m \u001b[39mfrom\u001b[39;00m \u001b[39mpyresparser\u001b[39;00m \u001b[39mimport\u001b[39;00m ResumeParser\n\u001b[0;32m----> <a href='vscode-notebook-cell:/home/supriya/Desktop/R-JD-matching/resume_extractor.ipynb#X45sZmlsZQ%3D%3D?line=1'>2</a>\u001b[0m data \u001b[39m=\u001b[39m ResumeParser(\u001b[39m'\u001b[39m\u001b[39m/home/supriya/Desktop/R-JD-matching/Supriya_Resume.pdf\u001b[39m\u001b[39m'\u001b[39m)\u001b[39m.\u001b[39mget_extracted_data()\n",
      "File \u001b[0;32m~/anaconda3/lib/python3.11/site-packages/pyresparser/resume_parser.py:20\u001b[0m, in \u001b[0;36mResumeParser.__init__\u001b[0;34m(self, resume, skills_file, custom_regex)\u001b[0m\n\u001b[1;32m     14\u001b[0m \u001b[39mdef\u001b[39;00m \u001b[39m__init__\u001b[39m(\n\u001b[1;32m     15\u001b[0m     \u001b[39mself\u001b[39m,\n\u001b[1;32m     16\u001b[0m     resume,\n\u001b[1;32m     17\u001b[0m     skills_file\u001b[39m=\u001b[39m\u001b[39mNone\u001b[39;00m,\n\u001b[1;32m     18\u001b[0m     custom_regex\u001b[39m=\u001b[39m\u001b[39mNone\u001b[39;00m\n\u001b[1;32m     19\u001b[0m ):\n\u001b[0;32m---> 20\u001b[0m     nlp \u001b[39m=\u001b[39m spacy\u001b[39m.\u001b[39mload(\u001b[39m'\u001b[39m\u001b[39men_core_web_sm\u001b[39m\u001b[39m'\u001b[39m)\n\u001b[1;32m     21\u001b[0m     custom_nlp \u001b[39m=\u001b[39m spacy\u001b[39m.\u001b[39mload(os\u001b[39m.\u001b[39mpath\u001b[39m.\u001b[39mdirname(os\u001b[39m.\u001b[39mpath\u001b[39m.\u001b[39mabspath(\u001b[39m__file__\u001b[39m)))\n\u001b[1;32m     22\u001b[0m     \u001b[39mself\u001b[39m\u001b[39m.\u001b[39m__skills_file \u001b[39m=\u001b[39m skills_file\n",
      "File \u001b[0;32m~/anaconda3/lib/python3.11/site-packages/spacy/__init__.py:51\u001b[0m, in \u001b[0;36mload\u001b[0;34m(name, vocab, disable, enable, exclude, config)\u001b[0m\n\u001b[1;32m     27\u001b[0m \u001b[39mdef\u001b[39;00m \u001b[39mload\u001b[39m(\n\u001b[1;32m     28\u001b[0m     name: Union[\u001b[39mstr\u001b[39m, Path],\n\u001b[1;32m     29\u001b[0m     \u001b[39m*\u001b[39m,\n\u001b[0;32m   (...)\u001b[0m\n\u001b[1;32m     34\u001b[0m     config: Union[Dict[\u001b[39mstr\u001b[39m, Any], Config] \u001b[39m=\u001b[39m util\u001b[39m.\u001b[39mSimpleFrozenDict(),\n\u001b[1;32m     35\u001b[0m ) \u001b[39m-\u001b[39m\u001b[39m>\u001b[39m Language:\n\u001b[1;32m     36\u001b[0m \u001b[39m    \u001b[39m\u001b[39m\"\"\"Load a spaCy model from an installed package or a local path.\u001b[39;00m\n\u001b[1;32m     37\u001b[0m \n\u001b[1;32m     38\u001b[0m \u001b[39m    name (str): Package name or model path.\u001b[39;00m\n\u001b[0;32m   (...)\u001b[0m\n\u001b[1;32m     49\u001b[0m \u001b[39m    RETURNS (Language): The loaded nlp object.\u001b[39;00m\n\u001b[1;32m     50\u001b[0m \u001b[39m    \"\"\"\u001b[39;00m\n\u001b[0;32m---> 51\u001b[0m     \u001b[39mreturn\u001b[39;00m util\u001b[39m.\u001b[39mload_model(\n\u001b[1;32m     52\u001b[0m         name,\n\u001b[1;32m     53\u001b[0m         vocab\u001b[39m=\u001b[39mvocab,\n\u001b[1;32m     54\u001b[0m         disable\u001b[39m=\u001b[39mdisable,\n\u001b[1;32m     55\u001b[0m         enable\u001b[39m=\u001b[39menable,\n\u001b[1;32m     56\u001b[0m         exclude\u001b[39m=\u001b[39mexclude,\n\u001b[1;32m     57\u001b[0m         config\u001b[39m=\u001b[39mconfig,\n\u001b[1;32m     58\u001b[0m     )\n",
      "File \u001b[0;32m~/anaconda3/lib/python3.11/site-packages/spacy/util.py:465\u001b[0m, in \u001b[0;36mload_model\u001b[0;34m(name, vocab, disable, enable, exclude, config)\u001b[0m\n\u001b[1;32m    463\u001b[0m     \u001b[39mreturn\u001b[39;00m get_lang_class(name\u001b[39m.\u001b[39mreplace(\u001b[39m\"\u001b[39m\u001b[39mblank:\u001b[39m\u001b[39m\"\u001b[39m, \u001b[39m\"\u001b[39m\u001b[39m\"\u001b[39m))()\n\u001b[1;32m    464\u001b[0m \u001b[39mif\u001b[39;00m is_package(name):  \u001b[39m# installed as package\u001b[39;00m\n\u001b[0;32m--> 465\u001b[0m     \u001b[39mreturn\u001b[39;00m load_model_from_package(name, \u001b[39m*\u001b[39m\u001b[39m*\u001b[39mkwargs)  \u001b[39m# type: ignore[arg-type]\u001b[39;00m\n\u001b[1;32m    466\u001b[0m \u001b[39mif\u001b[39;00m Path(name)\u001b[39m.\u001b[39mexists():  \u001b[39m# path to model data directory\u001b[39;00m\n\u001b[1;32m    467\u001b[0m     \u001b[39mreturn\u001b[39;00m load_model_from_path(Path(name), \u001b[39m*\u001b[39m\u001b[39m*\u001b[39mkwargs)  \u001b[39m# type: ignore[arg-type]\u001b[39;00m\n",
      "File \u001b[0;32m~/anaconda3/lib/python3.11/site-packages/spacy/util.py:501\u001b[0m, in \u001b[0;36mload_model_from_package\u001b[0;34m(name, vocab, disable, enable, exclude, config)\u001b[0m\n\u001b[1;32m    484\u001b[0m \u001b[39m\u001b[39m\u001b[39m\"\"\"Load a model from an installed package.\u001b[39;00m\n\u001b[1;32m    485\u001b[0m \n\u001b[1;32m    486\u001b[0m \u001b[39mname (str): The package name.\u001b[39;00m\n\u001b[0;32m   (...)\u001b[0m\n\u001b[1;32m    498\u001b[0m \u001b[39mRETURNS (Language): The loaded nlp object.\u001b[39;00m\n\u001b[1;32m    499\u001b[0m \u001b[39m\"\"\"\u001b[39;00m\n\u001b[1;32m    500\u001b[0m \u001b[39mcls\u001b[39m \u001b[39m=\u001b[39m importlib\u001b[39m.\u001b[39mimport_module(name)\n\u001b[0;32m--> 501\u001b[0m \u001b[39mreturn\u001b[39;00m \u001b[39mcls\u001b[39m\u001b[39m.\u001b[39mload(vocab\u001b[39m=\u001b[39mvocab, disable\u001b[39m=\u001b[39mdisable, enable\u001b[39m=\u001b[39menable, exclude\u001b[39m=\u001b[39mexclude, config\u001b[39m=\u001b[39mconfig)\n",
      "File \u001b[0;32m~/anaconda3/lib/python3.11/site-packages/en_core_web_sm/__init__.py:12\u001b[0m, in \u001b[0;36mload\u001b[0;34m(**overrides)\u001b[0m\n\u001b[1;32m     11\u001b[0m \u001b[39mdef\u001b[39;00m \u001b[39mload\u001b[39m(\u001b[39m*\u001b[39m\u001b[39m*\u001b[39moverrides):\n\u001b[0;32m---> 12\u001b[0m     \u001b[39mreturn\u001b[39;00m load_model_from_init_py(\u001b[39m__file__\u001b[39m, \u001b[39m*\u001b[39m\u001b[39m*\u001b[39moverrides)\n",
      "File \u001b[0;32m~/anaconda3/lib/python3.11/site-packages/spacy/util.py:682\u001b[0m, in \u001b[0;36mload_model_from_init_py\u001b[0;34m(init_file, vocab, disable, enable, exclude, config)\u001b[0m\n\u001b[1;32m    680\u001b[0m \u001b[39mif\u001b[39;00m \u001b[39mnot\u001b[39;00m model_path\u001b[39m.\u001b[39mexists():\n\u001b[1;32m    681\u001b[0m     \u001b[39mraise\u001b[39;00m \u001b[39mIOError\u001b[39;00m(Errors\u001b[39m.\u001b[39mE052\u001b[39m.\u001b[39mformat(path\u001b[39m=\u001b[39mdata_path))\n\u001b[0;32m--> 682\u001b[0m \u001b[39mreturn\u001b[39;00m load_model_from_path(\n\u001b[1;32m    683\u001b[0m     data_path,\n\u001b[1;32m    684\u001b[0m     vocab\u001b[39m=\u001b[39mvocab,\n\u001b[1;32m    685\u001b[0m     meta\u001b[39m=\u001b[39mmeta,\n\u001b[1;32m    686\u001b[0m     disable\u001b[39m=\u001b[39mdisable,\n\u001b[1;32m    687\u001b[0m     enable\u001b[39m=\u001b[39menable,\n\u001b[1;32m    688\u001b[0m     exclude\u001b[39m=\u001b[39mexclude,\n\u001b[1;32m    689\u001b[0m     config\u001b[39m=\u001b[39mconfig,\n\u001b[1;32m    690\u001b[0m )\n",
      "File \u001b[0;32m~/anaconda3/lib/python3.11/site-packages/spacy/util.py:538\u001b[0m, in \u001b[0;36mload_model_from_path\u001b[0;34m(model_path, meta, vocab, disable, enable, exclude, config)\u001b[0m\n\u001b[1;32m    536\u001b[0m config_path \u001b[39m=\u001b[39m model_path \u001b[39m/\u001b[39m \u001b[39m\"\u001b[39m\u001b[39mconfig.cfg\u001b[39m\u001b[39m\"\u001b[39m\n\u001b[1;32m    537\u001b[0m overrides \u001b[39m=\u001b[39m dict_to_dot(config, for_overrides\u001b[39m=\u001b[39m\u001b[39mTrue\u001b[39;00m)\n\u001b[0;32m--> 538\u001b[0m config \u001b[39m=\u001b[39m load_config(config_path, overrides\u001b[39m=\u001b[39moverrides)\n\u001b[1;32m    539\u001b[0m nlp \u001b[39m=\u001b[39m load_model_from_config(\n\u001b[1;32m    540\u001b[0m     config,\n\u001b[1;32m    541\u001b[0m     vocab\u001b[39m=\u001b[39mvocab,\n\u001b[0;32m   (...)\u001b[0m\n\u001b[1;32m    545\u001b[0m     meta\u001b[39m=\u001b[39mmeta,\n\u001b[1;32m    546\u001b[0m )\n\u001b[1;32m    547\u001b[0m \u001b[39mreturn\u001b[39;00m nlp\u001b[39m.\u001b[39mfrom_disk(model_path, exclude\u001b[39m=\u001b[39mexclude, overrides\u001b[39m=\u001b[39moverrides)\n",
      "File \u001b[0;32m~/anaconda3/lib/python3.11/site-packages/spacy/util.py:714\u001b[0m, in \u001b[0;36mload_config\u001b[0;34m(path, overrides, interpolate)\u001b[0m\n\u001b[1;32m    712\u001b[0m \u001b[39melse\u001b[39;00m:\n\u001b[1;32m    713\u001b[0m     \u001b[39mif\u001b[39;00m \u001b[39mnot\u001b[39;00m config_path \u001b[39mor\u001b[39;00m \u001b[39mnot\u001b[39;00m config_path\u001b[39m.\u001b[39mis_file():\n\u001b[0;32m--> 714\u001b[0m         \u001b[39mraise\u001b[39;00m \u001b[39mIOError\u001b[39;00m(Errors\u001b[39m.\u001b[39mE053\u001b[39m.\u001b[39mformat(path\u001b[39m=\u001b[39mconfig_path, name\u001b[39m=\u001b[39m\u001b[39m\"\u001b[39m\u001b[39mconfig file\u001b[39m\u001b[39m\"\u001b[39m))\n\u001b[1;32m    715\u001b[0m     \u001b[39mreturn\u001b[39;00m config\u001b[39m.\u001b[39mfrom_disk(\n\u001b[1;32m    716\u001b[0m         config_path, overrides\u001b[39m=\u001b[39moverrides, interpolate\u001b[39m=\u001b[39minterpolate\n\u001b[1;32m    717\u001b[0m     )\n",
      "\u001b[0;31mOSError\u001b[0m: [E053] Could not read config file from /home/supriya/anaconda3/lib/python3.11/site-packages/en_core_web_sm/en_core_web_sm-2.3.1/config.cfg"
     ]
    }
   ],
   "source": [
    "from pyresparser import ResumeParser\n",
    "data = ResumeParser('/home/supriya/Desktop/R-JD-matching/Supriya_Resume.pdf').get_extracted_data()"
   ]
  },
  {
   "cell_type": "code",
   "execution_count": null,
   "metadata": {},
   "outputs": [],
   "source": [
    "def extract_skills_from_resume(resume_text):\n",
    "    preprocessed_text = preprocess_text(resume_text)\n",
    "\n",
    "    extracted_skills = extract_skills_keywords(preprocessed_text)\n",
    "\n",
    "    return extracted_skills"
   ]
  },
  {
   "cell_type": "code",
   "execution_count": null,
   "metadata": {},
   "outputs": [],
   "source": [
    "skills = extract_skills_from_resume(text)"
   ]
  },
  {
   "cell_type": "code",
   "execution_count": null,
   "metadata": {},
   "outputs": [
    {
     "name": "stdout",
     "output_type": "stream",
     "text": [
      "['achievements tasks achievements', 'tasks achievements tasks', 'supriya thapa bhujel', 'data science enthusiast', 'machine learning deep', 'learning deep learning', 'deep steganography learning', 'deep learning techniques', 'deep learning president', 'game deep steganography', 'deep steganography applying', 'work achievements tasks', 'deep learning linux', 'deep reinforcement learning', 'reinforcement learning deep', 'machine learning microdegree', 'present nepal experienced', 'ﬂare prediction deep', 'machine learning model', 'advanced machine learning']\n"
     ]
    }
   ],
   "source": [
    "print(skills)"
   ]
  },
  {
   "cell_type": "code",
   "execution_count": null,
   "metadata": {},
   "outputs": [],
   "source": [
    "def extract_education(text):\n",
    "    education_info = []\n",
    "\n",
    "    education_pattern = re.compile(\n",
    "                        r\"(?i)(?P<Degree>Bachelor|B\\.S\\.|Master|M\\.S\\.|Ph\\.D\\.|Doctorate).*?\"\n",
    "                        r\"(?P<Major>[\\w\\s]+).*?\"\n",
    "                        r\"(?P<University>[\\w\\s,]+)\"\n",
    "    )\n",
    "\n",
    "    matches = education_pattern.findall(text)\n",
    "\n",
    "    for match in matches:\n",
    "        degree, major, university = match\n",
    "        education_info.append({\n",
    "            \"Degree\": degree.strip(),\n",
    "            \"Major\": major.strip(),\n",
    "            \"University\": university.strip()\n",
    "        })\n",
    "\n",
    "    return education_info\n"
   ]
  },
  {
   "cell_type": "code",
   "execution_count": null,
   "metadata": {},
   "outputs": [],
   "source": [
    "ed_info = extract_education(preprocessed_text)"
   ]
  },
  {
   "cell_type": "code",
   "execution_count": null,
   "metadata": {},
   "outputs": [],
   "source": [
    "def format_education_info(education_info):\n",
    "    formatted_info = []\n",
    "    for edu in education_info:\n",
    "        formatted_info.append({\n",
    "            \"Degree\": edu[\"Degree\"],\n",
    "            \"Major\": edu[\"Major\"],\n",
    "            \"University\": edu[\"University\"],\n",
    "        })\n",
    "    return formatted_info\n"
   ]
  },
  {
   "cell_type": "code",
   "execution_count": null,
   "metadata": {},
   "outputs": [
    {
     "data": {
      "text/plain": [
       "[{'Degree': 'bachelor',\n",
       "  'Major': 'in computer science and information technology  prime college  04 2019   present      nepal  with a focus on data structures  algorithms  physics  math  ai  and oop   skills  python numpy  pandas  scikit learn   keras   sql mysql   tensorﬂow  data visualization  machine learning  deep learning  linux os  leadership  communication  personal projects  digit classiﬁer   09 2022   11 2022    developed the project from scratch using numpy  also did another form of the same project using tensorﬂow  both model achieved over 90  accuracy in classifying digits   solar flare prediction   03 2023   04 2023    developed an advanced machine learning model to accurately forecast solar ﬂares by analyzing diverse solar activity data  demonstrated expertise in data analysis  feature engineering  and model optimization  tictactoe using deep rl   06 2023   07 2023    developed a tic tac toe game using deep reinforcement learning  deep rl  techniques to train ai agents to master the game   deep steganography   10 2023   present    currrently working on a project in deep steganography  applying advanced neural network techniques to hide and retrieve information within digital media  demonstrating expertise in computer vision and data security    interests  reading scientiﬁc articles  writing blogs  playing violin  volunteer work  achievements tasks  achievements tasks  achievements tasks  courses',\n",
       "  'University': ''}]"
      ]
     },
     "execution_count": 16,
     "metadata": {},
     "output_type": "execute_result"
    }
   ],
   "source": [
    "format_education_info(ed_info)"
   ]
  },
  {
   "cell_type": "code",
   "execution_count": null,
   "metadata": {},
   "outputs": [],
   "source": [
    "def extract_category_from_folder(folder_path):\n",
    "    return os.path.basename(folder_path)\n"
   ]
  },
  {
   "cell_type": "code",
   "execution_count": null,
   "metadata": {},
   "outputs": [],
   "source": [
    "# extract_category_from_folder('/data')"
   ]
  },
  {
   "cell_type": "code",
   "execution_count": null,
   "metadata": {},
   "outputs": [],
   "source": [
    "\n",
    "def extract_top_skills_from_folder(folder_path, top_n):\n",
    "    top_skills_per_cv = []\n",
    "    for root, _, files in os.walk(folder_path):\n",
    "        for file in files:\n",
    "            if file.endswith(\".pdf\"):\n",
    "                cv_path = os.path.join(root, file)\n",
    "                resume_text = extract_text_from_pdf(cv_path)\n",
    "                cleaned_text = preprocess_text(resume_text)\n",
    "                top_skills = extract_skills_from_resume(cleaned_text)\n",
    "                top_skills_per_cv.append(top_skills[:top_n])\n",
    "    return top_skills_per_cv\n"
   ]
  },
  {
   "cell_type": "code",
   "execution_count": null,
   "metadata": {},
   "outputs": [],
   "source": [
    "def extract_education_and_category(folder_path):\n",
    "    education_and_category_info = []\n",
    "    category_name = extract_category_from_folder(folder_path)\n",
    "    for root, _, files in os.walk(folder_path):\n",
    "        for file in files:\n",
    "            if file.endswith(\".pdf\"):\n",
    "                cv_path = os.path.join(root, file)\n",
    "                resume_text = extract_text_from_pdf(cv_path)\n",
    "                cleaned_text = preprocess_text(resume_text)\n",
    "                education_info = extract_education(cleaned_text)\n",
    "                education_and_category_info.append({\n",
    "                    \"CV File\": cv_path,\n",
    "                    \"Category\": category_name,\n",
    "                    \"Education\": education_info,\n",
    "                })\n",
    "    return education_and_category_info\n"
   ]
  },
  {
   "cell_type": "code",
   "execution_count": null,
   "metadata": {},
   "outputs": [],
   "source": [
    "def save_cv_data_to_csv(category_folder, output_csv_folder, top_n=10):\n",
    "    top_skills_per_cv = extract_top_skills_from_folder(category_folder, top_n)\n",
    "    education_and_category_info = extract_education_and_category(category_folder)\n",
    "    category_name = extract_category_from_folder(category_folder)\n",
    "    output_csv_path = os.path.join(output_csv_folder, f\"{category_name}.csv\")\n",
    "\n",
    "    with open(output_csv_path, 'w', newline='', encoding='utf-8') as csv_file:\n",
    "        fieldnames = [\"CV File\", \"Category\", \"Education\", \"Top Skills\"]\n",
    "        writer = csv.DictWriter(csv_file, fieldnames=fieldnames)\n",
    "        writer.writeheader()\n",
    "\n",
    "        for item in education_and_category_info:\n",
    "            cv_path = item[\"CV File\"]\n",
    "            category = item[\"Category\"]\n",
    "            education = item[\"Education\"]\n",
    "            top_skills = top_skills_per_cv.pop(0)\n",
    "            writer.writerow({\n",
    "                \"CV File\": cv_path,\n",
    "                \"Category\": category,\n",
    "                \"Education\": education,\n",
    "                \"Top Skills\": ', '.join(top_skills),\n",
    "            })\n"
   ]
  },
  {
   "cell_type": "code",
   "execution_count": null,
   "metadata": {},
   "outputs": [],
   "source": [
    "\n",
    "def main():\n",
    "    DATA_FOLDER = \"./data\"  # Replace with your folder path\n",
    "    OUTPUT_CSV_FOLDER = \"./output_csv\"\n",
    "    top_n = 10\n",
    "\n",
    "    if not os.path.exists(OUTPUT_CSV_FOLDER):\n",
    "        os.makedirs(OUTPUT_CSV_FOLDER)\n",
    "\n",
    "    for root, dirs, _ in os.walk(DATA_FOLDER):\n",
    "        for category in dirs:\n",
    "            category_folder = os.path.join(DATA_FOLDER, category)\n",
    "            save_cv_data_to_csv(category_folder, OUTPUT_CSV_FOLDER, top_n)\n",
    "\n",
    "    print(f\"CSV files saved to {OUTPUT_CSV_FOLDER}\")\n"
   ]
  },
  {
   "cell_type": "code",
   "execution_count": null,
   "metadata": {},
   "outputs": [
    {
     "name": "stdout",
     "output_type": "stream",
     "text": [
      "CSV files saved to ./output_csv\n"
     ]
    }
   ],
   "source": [
    "\n",
    "if __name__ == '__main__':\n",
    "    main()\n"
   ]
  },
  {
   "cell_type": "code",
   "execution_count": null,
   "metadata": {},
   "outputs": [],
   "source": [
    "import pandas as pd"
   ]
  },
  {
   "cell_type": "code",
   "execution_count": null,
   "metadata": {},
   "outputs": [],
   "source": [
    "test_df = pd.read_csv('/home/supriya/Desktop/FDV/Resume-Parser/output_csv/AI.csv')"
   ]
  },
  {
   "cell_type": "code",
   "execution_count": null,
   "metadata": {},
   "outputs": [
    {
     "data": {
      "text/plain": [
       "Index(['CV File', 'Category', 'Education', 'Top Skills'], dtype='object')"
      ]
     },
     "execution_count": 60,
     "metadata": {},
     "output_type": "execute_result"
    }
   ],
   "source": [
    "test_df.columns"
   ]
  },
  {
   "cell_type": "code",
   "execution_count": null,
   "metadata": {},
   "outputs": [
    {
     "data": {
      "text/plain": [
       "\"[{'Degree': 'bachelor', 'Major': 'in computer science and information\\\\ntechnology \\\\nprime college \\\\n04 2019   present\\\\n  \\\\n \\\\nnepal \\\\nwith a focus on data\\\\nstructures  algorithms \\\\nphysics  math  ai  and oop  \\\\nskills \\\\npython numpy  pandas  scikit learn   keras  \\\\nsql mysql  \\\\ntensorﬂow \\\\ndata visualization \\\\nmachine learning \\\\ndeep learning \\\\nlinux os \\\\nleadership \\\\ncommunication \\\\npersonal projects \\\\ndigit classiﬁer\\\\n  09 2022   11 2022 \\\\n \\\\ndeveloped the project from scratch using numpy \\\\nalso did another form of the same project using tensorﬂow \\\\nboth model achieved over 90  accuracy in classifying digits  \\\\nsolar flare prediction\\\\n  03 2023   04 2023 \\\\n \\\\ndeveloped an advanced machine learning model to accurately forecast\\\\nsolar ﬂares by analyzing diverse solar activity data  demonstrated\\\\nexpertise in data analysis  feature engineering  and model optimization \\\\ntictactoe using deep rl\\\\n  06 2023   07 2023 \\\\n \\\\ndeveloped a tic tac toe game using deep reinforcement learning\\\\n deep rl  techniques to train ai agents to master the game  \\\\ndeep steganography\\\\n  10 2023   present \\\\n \\\\ncurrrently working on a project in deep steganography  applying\\\\nadvanced neural network techniques to hide and retrieve information\\\\nwithin digital media  demonstrating expertise in computer vision and\\\\ndata security   \\\\ninterests \\\\nreading scientiﬁc articles \\\\nwriting blogs \\\\nplaying violin \\\\nvolunteer work \\\\nachievements tasks \\\\nachievements tasks \\\\nachievements tasks \\\\ncourses', 'University': ''}]\""
      ]
     },
     "execution_count": 61,
     "metadata": {},
     "output_type": "execute_result"
    }
   ],
   "source": [
    "test_df['Education'][0]"
   ]
  },
  {
   "cell_type": "code",
   "execution_count": null,
   "metadata": {},
   "outputs": [
    {
     "data": {
      "text/plain": [
       "'achievements tasks achievements, tasks achievements tasks, supriya thapa bhujel, data science enthusiast, machine learning deep, learning deep learning, deep steganography learning, deep learning techniques, deep learning president, game deep steganography'"
      ]
     },
     "execution_count": 58,
     "metadata": {},
     "output_type": "execute_result"
    }
   ],
   "source": [
    "test_df['Top Skills'][0]"
   ]
  }
 ],
 "metadata": {
  "kernelspec": {
   "display_name": "base",
   "language": "python",
   "name": "python3"
  },
  "language_info": {
   "codemirror_mode": {
    "name": "ipython",
    "version": 3
   },
   "file_extension": ".py",
   "mimetype": "text/x-python",
   "name": "python",
   "nbconvert_exporter": "python",
   "pygments_lexer": "ipython3",
   "version": "3.11.5"
  }
 },
 "nbformat": 4,
 "nbformat_minor": 2
}
