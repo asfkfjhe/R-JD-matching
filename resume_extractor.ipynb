{
 "cells": [
  {
   "cell_type": "code",
   "execution_count": null,
   "metadata": {},
   "outputs": [],
   "source": [
    "from PIL import Image\n",
    "\n",
    "import pytesseract\n",
    "\n"
   ]
  },
  {
   "cell_type": "code",
   "execution_count": null,
   "metadata": {},
   "outputs": [],
   "source": [
    "# If you don't have tesseract executable in your PATH, include the following:\n",
    "pytesseract.pytesseract.tesseract_cmd = r'/usr/bin/tesseract'\n",
    "# Example tesseract_cmd = r'C:\\Program Files (x86)\\Tesseract-OCR\\tesseract'\n"
   ]
  },
  {
   "cell_type": "code",
   "execution_count": null,
   "metadata": {},
   "outputs": [],
   "source": [
    "\n",
    "# Simple image to string\n",
    "text = pytesseract.image_to_string(Image.open('test.png'), lang= 'eng')\n"
   ]
  },
  {
   "cell_type": "code",
   "execution_count": null,
   "metadata": {},
   "outputs": [],
   "source": [
    "# # List of available languages\n",
    "# print(pytesseract.get_languages(config=''))\n",
    "\n"
   ]
  },
  {
   "cell_type": "code",
   "execution_count": null,
   "metadata": {},
   "outputs": [],
   "source": [
    "\n",
    "# # Batch processing with a single file containing the list of multiple image file paths\n",
    "# print(pytesseract.image_to_string('images.txt'))\n",
    "\n",
    "# # Timeout/terminate the tesseract job after a period of time\n",
    "# try:\n",
    "#     print(pytesseract.image_to_string('test.jpg', timeout=2)) # Timeout after 2 seconds\n",
    "#     print(pytesseract.image_to_string('test.jpg', timeout=0.5)) # Timeout after half a second\n",
    "# except RuntimeError as timeout_error:\n",
    "#     # Tesseract processing is terminated\n",
    "#     pass\n",
    "\n",
    "# # Get bounding box estimates\n",
    "# print(pytesseract.image_to_boxes(Image.open('test.png')))\n",
    "\n",
    "# # Get verbose data including boxes, confidences, line and page numbers\n",
    "# print(pytesseract.image_to_data(Image.open('test.png')))\n",
    "\n",
    "# # Get information about orientation and script detection\n",
    "# print(pytesseract.image_to_osd(Image.open('test.png')))\n",
    "\n",
    "\n",
    "# # Get a searchable PDF\n",
    "# pdf = pytesseract.image_to_pdf_or_hocr('test.png', extension='pdf')\n",
    "# with open('test.pdf', 'w+b') as f:\n",
    "#     f.write(pdf) # pdf type is bytes by default\n",
    "\n",
    "# # Get HOCR output\n",
    "# hocr = pytesseract.image_to_pdf_or_hocr('test.png', extension='hocr')\n",
    "\n",
    "# # Get ALTO XML output\n",
    "# xml = pytesseract.image_to_alto_xml('test.png')"
   ]
  },
  {
   "cell_type": "code",
   "execution_count": 1,
   "metadata": {},
   "outputs": [],
   "source": [
    "import os\n",
    "import csv\n",
    "from PyPDF2 import PdfReader\n",
    "import spacy\n",
    "import re\n",
    "import yake"
   ]
  },
  {
   "cell_type": "code",
   "execution_count": 2,
   "metadata": {},
   "outputs": [],
   "source": [
    "def extract_text_from_pdf(pdf_file_path):\n",
    "    try:\n",
    "        reader = PdfReader(pdf_file_path)\n",
    "        text = \"\"\n",
    "        for page in reader.pages:\n",
    "            text += page.extract_text()\n",
    "        return text\n",
    "    except Exception as e:\n",
    "        print(\"Error:\", str(e))\n",
    "        return None\n"
   ]
  },
  {
   "cell_type": "code",
   "execution_count": 3,
   "metadata": {},
   "outputs": [],
   "source": [
    "text = extract_text_from_pdf('/home/supriya/Desktop/FDV/Resume-Parser/data/AI/resume.pdf')"
   ]
  },
  {
   "cell_type": "code",
   "execution_count": 4,
   "metadata": {},
   "outputs": [],
   "source": [
    "def preprocess_text(text):\n",
    "    text = text.lower()\n",
    "    text = re.sub(r'[^\\w\\s]', ' ', text)\n",
    "    text = re.sub(r'\\n', ' ', text)\n",
    "\n",
    "    return text \n"
   ]
  },
  {
   "cell_type": "code",
   "execution_count": 5,
   "metadata": {},
   "outputs": [],
   "source": [
    "preprocessed_text = preprocess_text(text)"
   ]
  },
  {
   "cell_type": "markdown",
   "metadata": {},
   "source": [
    "### KeyBERT"
   ]
  },
  {
   "cell_type": "code",
   "execution_count": 7,
   "metadata": {},
   "outputs": [],
   "source": [
    "# from keybert import KeyBERT\n",
    "# kw_model = KeyBERT()\n",
    "# keywords = kw_model.extract_keywords(preprocessed_text)\n",
    "# key_list = keywords(preprocessed_text)\n",
    "# print(key_list)\n",
    "# print(keywords)"
   ]
  },
  {
   "cell_type": "code",
   "execution_count": 8,
   "metadata": {},
   "outputs": [],
   "source": [
    "def extract_skills_keywords(text):\n",
    "    keyword_extractor = yake.KeywordExtractor()\n",
    "\n",
    "    skill_keywords_extracted = keyword_extractor.extract_keywords(text)\n",
    "\n",
    "    skill_keywords = [keyword for keyword, score in skill_keywords_extracted]\n",
    "\n",
    "    return skill_keywords"
   ]
  },
  {
   "cell_type": "code",
   "execution_count": 9,
   "metadata": {},
   "outputs": [
    {
     "data": {
      "text/plain": [
       "['achievements tasks achievements',\n",
       " 'tasks achievements tasks',\n",
       " 'supriya thapa bhujel',\n",
       " 'data science enthusiast',\n",
       " 'machine learning deep',\n",
       " 'learning deep learning',\n",
       " 'deep steganography learning',\n",
       " 'deep learning techniques',\n",
       " 'deep learning president',\n",
       " 'game deep steganography',\n",
       " 'deep steganography applying',\n",
       " 'work achievements tasks',\n",
       " 'deep learning linux',\n",
       " 'deep reinforcement learning',\n",
       " 'reinforcement learning deep',\n",
       " 'machine learning microdegree',\n",
       " 'present nepal experienced',\n",
       " 'ﬂare prediction deep',\n",
       " 'machine learning model',\n",
       " 'advanced machine learning']"
      ]
     },
     "execution_count": 9,
     "metadata": {},
     "output_type": "execute_result"
    }
   ],
   "source": [
    "extract_skills_keywords(preprocessed_text)"
   ]
  },
  {
   "cell_type": "code",
   "execution_count": 10,
   "metadata": {},
   "outputs": [],
   "source": [
    "def extract_skills_from_resume(resume_text):\n",
    "    preprocessed_text = preprocess_text(resume_text)\n",
    "\n",
    "    extracted_skills = extract_skills_keywords(preprocessed_text)\n",
    "\n",
    "    return extracted_skills"
   ]
  },
  {
   "cell_type": "code",
   "execution_count": 11,
   "metadata": {},
   "outputs": [],
   "source": [
    "skills = extract_skills_from_resume(text)"
   ]
  },
  {
   "cell_type": "code",
   "execution_count": 12,
   "metadata": {},
   "outputs": [
    {
     "name": "stdout",
     "output_type": "stream",
     "text": [
      "['achievements tasks achievements', 'tasks achievements tasks', 'supriya thapa bhujel', 'data science enthusiast', 'machine learning deep', 'learning deep learning', 'deep steganography learning', 'deep learning techniques', 'deep learning president', 'game deep steganography', 'deep steganography applying', 'work achievements tasks', 'deep learning linux', 'deep reinforcement learning', 'reinforcement learning deep', 'machine learning microdegree', 'present nepal experienced', 'ﬂare prediction deep', 'machine learning model', 'advanced machine learning']\n"
     ]
    }
   ],
   "source": [
    "print(skills)"
   ]
  },
  {
   "cell_type": "code",
   "execution_count": 13,
   "metadata": {},
   "outputs": [],
   "source": [
    "def extract_education(text):\n",
    "    education_info = []\n",
    "\n",
    "    education_pattern = re.compile(\n",
    "                        r\"(?i)(?P<Degree>Bachelor|B\\.S\\.|Master|M\\.S\\.|Ph\\.D\\.|Doctorate).*?\"\n",
    "                        r\"(?P<Major>[\\w\\s]+).*?\"\n",
    "                        r\"(?P<University>[\\w\\s,]+)\"\n",
    "    )\n",
    "\n",
    "    matches = education_pattern.findall(text)\n",
    "\n",
    "    for match in matches:\n",
    "        degree, major, university = match\n",
    "        education_info.append({\n",
    "            \"Degree\": degree.strip(),\n",
    "            \"Major\": major.strip(),\n",
    "            \"University\": university.strip()\n",
    "        })\n",
    "\n",
    "    return education_info\n"
   ]
  },
  {
   "cell_type": "code",
   "execution_count": 14,
   "metadata": {},
   "outputs": [],
   "source": [
    "ed_info = extract_education(preprocessed_text)"
   ]
  },
  {
   "cell_type": "code",
   "execution_count": 15,
   "metadata": {},
   "outputs": [],
   "source": [
    "def format_education_info(education_info):\n",
    "    formatted_info = []\n",
    "    for edu in education_info:\n",
    "        formatted_info.append({\n",
    "            \"Degree\": edu[\"Degree\"],\n",
    "            \"Major\": edu[\"Major\"],\n",
    "            \"University\": edu[\"University\"],\n",
    "        })\n",
    "    return formatted_info\n"
   ]
  },
  {
   "cell_type": "code",
   "execution_count": 16,
   "metadata": {},
   "outputs": [
    {
     "data": {
      "text/plain": [
       "[{'Degree': 'bachelor',\n",
       "  'Major': 'in computer science and information technology  prime college  04 2019   present      nepal  with a focus on data structures  algorithms  physics  math  ai  and oop   skills  python numpy  pandas  scikit learn   keras   sql mysql   tensorﬂow  data visualization  machine learning  deep learning  linux os  leadership  communication  personal projects  digit classiﬁer   09 2022   11 2022    developed the project from scratch using numpy  also did another form of the same project using tensorﬂow  both model achieved over 90  accuracy in classifying digits   solar flare prediction   03 2023   04 2023    developed an advanced machine learning model to accurately forecast solar ﬂares by analyzing diverse solar activity data  demonstrated expertise in data analysis  feature engineering  and model optimization  tictactoe using deep rl   06 2023   07 2023    developed a tic tac toe game using deep reinforcement learning  deep rl  techniques to train ai agents to master the game   deep steganography   10 2023   present    currrently working on a project in deep steganography  applying advanced neural network techniques to hide and retrieve information within digital media  demonstrating expertise in computer vision and data security    interests  reading scientiﬁc articles  writing blogs  playing violin  volunteer work  achievements tasks  achievements tasks  achievements tasks  courses',\n",
       "  'University': ''}]"
      ]
     },
     "execution_count": 16,
     "metadata": {},
     "output_type": "execute_result"
    }
   ],
   "source": [
    "format_education_info(ed_info)"
   ]
  },
  {
   "cell_type": "code",
   "execution_count": 17,
   "metadata": {},
   "outputs": [],
   "source": [
    "def extract_category_from_folder(folder_path):\n",
    "    return os.path.basename(folder_path)\n"
   ]
  },
  {
   "cell_type": "code",
   "execution_count": 19,
   "metadata": {},
   "outputs": [],
   "source": [
    "# extract_category_from_folder('/data')"
   ]
  },
  {
   "cell_type": "code",
   "execution_count": 20,
   "metadata": {},
   "outputs": [],
   "source": [
    "\n",
    "def extract_top_skills_from_folder(folder_path, top_n):\n",
    "    top_skills_per_cv = []\n",
    "    for root, _, files in os.walk(folder_path):\n",
    "        for file in files:\n",
    "            if file.endswith(\".pdf\"):\n",
    "                cv_path = os.path.join(root, file)\n",
    "                resume_text = extract_text_from_pdf(cv_path)\n",
    "                cleaned_text = preprocess_text(resume_text)\n",
    "                top_skills = extract_skills_from_resume(cleaned_text)\n",
    "                top_skills_per_cv.append(top_skills[:top_n])\n",
    "    return top_skills_per_cv\n"
   ]
  },
  {
   "cell_type": "code",
   "execution_count": 21,
   "metadata": {},
   "outputs": [],
   "source": [
    "def extract_education_and_category(folder_path):\n",
    "    education_and_category_info = []\n",
    "    category_name = extract_category_from_folder(folder_path)\n",
    "    for root, _, files in os.walk(folder_path):\n",
    "        for file in files:\n",
    "            if file.endswith(\".pdf\"):\n",
    "                cv_path = os.path.join(root, file)\n",
    "                resume_text = extract_text_from_pdf(cv_path)\n",
    "                cleaned_text = preprocess_text(resume_text)\n",
    "                education_info = extract_education(cleaned_text)\n",
    "                education_and_category_info.append({\n",
    "                    \"CV File\": cv_path,\n",
    "                    \"Category\": category_name,\n",
    "                    \"Education\": education_info,\n",
    "                })\n",
    "    return education_and_category_info\n"
   ]
  },
  {
   "cell_type": "code",
   "execution_count": 22,
   "metadata": {},
   "outputs": [],
   "source": [
    "def save_cv_data_to_csv(category_folder, output_csv_folder, top_n=10):\n",
    "    top_skills_per_cv = extract_top_skills_from_folder(category_folder, top_n)\n",
    "    education_and_category_info = extract_education_and_category(category_folder)\n",
    "    category_name = extract_category_from_folder(category_folder)\n",
    "    output_csv_path = os.path.join(output_csv_folder, f\"{category_name}.csv\")\n",
    "\n",
    "    with open(output_csv_path, 'w', newline='', encoding='utf-8') as csv_file:\n",
    "        fieldnames = [\"CV File\", \"Category\", \"Education\", \"Top Skills\"]\n",
    "        writer = csv.DictWriter(csv_file, fieldnames=fieldnames)\n",
    "        writer.writeheader()\n",
    "\n",
    "        for item in education_and_category_info:\n",
    "            cv_path = item[\"CV File\"]\n",
    "            category = item[\"Category\"]\n",
    "            education = item[\"Education\"]\n",
    "            top_skills = top_skills_per_cv.pop(0)\n",
    "            writer.writerow({\n",
    "                \"CV File\": cv_path,\n",
    "                \"Category\": category,\n",
    "                \"Education\": education,\n",
    "                \"Top Skills\": ', '.join(top_skills),\n",
    "            })\n"
   ]
  },
  {
   "cell_type": "code",
   "execution_count": 23,
   "metadata": {},
   "outputs": [],
   "source": [
    "\n",
    "def main():\n",
    "    DATA_FOLDER = \"./data\"  # Replace with your folder path\n",
    "    OUTPUT_CSV_FOLDER = \"./output_csv\"\n",
    "    top_n = 10\n",
    "\n",
    "    if not os.path.exists(OUTPUT_CSV_FOLDER):\n",
    "        os.makedirs(OUTPUT_CSV_FOLDER)\n",
    "\n",
    "    for root, dirs, _ in os.walk(DATA_FOLDER):\n",
    "        for category in dirs:\n",
    "            category_folder = os.path.join(DATA_FOLDER, category)\n",
    "            save_cv_data_to_csv(category_folder, OUTPUT_CSV_FOLDER, top_n)\n",
    "\n",
    "    print(f\"CSV files saved to {OUTPUT_CSV_FOLDER}\")\n"
   ]
  },
  {
   "cell_type": "code",
   "execution_count": null,
   "metadata": {},
   "outputs": [
    {
     "name": "stdout",
     "output_type": "stream",
     "text": [
      "CSV files saved to ./output_csv\n"
     ]
    }
   ],
   "source": [
    "\n",
    "if __name__ == '__main__':\n",
    "    main()\n"
   ]
  },
  {
   "cell_type": "code",
   "execution_count": null,
   "metadata": {},
   "outputs": [],
   "source": [
    "import pandas as pd"
   ]
  },
  {
   "cell_type": "code",
   "execution_count": null,
   "metadata": {},
   "outputs": [],
   "source": [
    "test_df = pd.read_csv('/home/supriya/Desktop/FDV/Resume-Parser/output_csv/AI.csv')"
   ]
  },
  {
   "cell_type": "code",
   "execution_count": null,
   "metadata": {},
   "outputs": [
    {
     "data": {
      "text/plain": [
       "Index(['CV File', 'Category', 'Education', 'Top Skills'], dtype='object')"
      ]
     },
     "execution_count": 60,
     "metadata": {},
     "output_type": "execute_result"
    }
   ],
   "source": [
    "test_df.columns"
   ]
  },
  {
   "cell_type": "code",
   "execution_count": null,
   "metadata": {},
   "outputs": [
    {
     "data": {
      "text/plain": [
       "\"[{'Degree': 'bachelor', 'Major': 'in computer science and information\\\\ntechnology \\\\nprime college \\\\n04 2019   present\\\\n  \\\\n \\\\nnepal \\\\nwith a focus on data\\\\nstructures  algorithms \\\\nphysics  math  ai  and oop  \\\\nskills \\\\npython numpy  pandas  scikit learn   keras  \\\\nsql mysql  \\\\ntensorﬂow \\\\ndata visualization \\\\nmachine learning \\\\ndeep learning \\\\nlinux os \\\\nleadership \\\\ncommunication \\\\npersonal projects \\\\ndigit classiﬁer\\\\n  09 2022   11 2022 \\\\n \\\\ndeveloped the project from scratch using numpy \\\\nalso did another form of the same project using tensorﬂow \\\\nboth model achieved over 90  accuracy in classifying digits  \\\\nsolar flare prediction\\\\n  03 2023   04 2023 \\\\n \\\\ndeveloped an advanced machine learning model to accurately forecast\\\\nsolar ﬂares by analyzing diverse solar activity data  demonstrated\\\\nexpertise in data analysis  feature engineering  and model optimization \\\\ntictactoe using deep rl\\\\n  06 2023   07 2023 \\\\n \\\\ndeveloped a tic tac toe game using deep reinforcement learning\\\\n deep rl  techniques to train ai agents to master the game  \\\\ndeep steganography\\\\n  10 2023   present \\\\n \\\\ncurrrently working on a project in deep steganography  applying\\\\nadvanced neural network techniques to hide and retrieve information\\\\nwithin digital media  demonstrating expertise in computer vision and\\\\ndata security   \\\\ninterests \\\\nreading scientiﬁc articles \\\\nwriting blogs \\\\nplaying violin \\\\nvolunteer work \\\\nachievements tasks \\\\nachievements tasks \\\\nachievements tasks \\\\ncourses', 'University': ''}]\""
      ]
     },
     "execution_count": 61,
     "metadata": {},
     "output_type": "execute_result"
    }
   ],
   "source": [
    "test_df['Education'][0]"
   ]
  },
  {
   "cell_type": "code",
   "execution_count": null,
   "metadata": {},
   "outputs": [
    {
     "data": {
      "text/plain": [
       "'achievements tasks achievements, tasks achievements tasks, supriya thapa bhujel, data science enthusiast, machine learning deep, learning deep learning, deep steganography learning, deep learning techniques, deep learning president, game deep steganography'"
      ]
     },
     "execution_count": 58,
     "metadata": {},
     "output_type": "execute_result"
    }
   ],
   "source": [
    "test_df['Top Skills'][0]"
   ]
  }
 ],
 "metadata": {
  "kernelspec": {
   "display_name": "base",
   "language": "python",
   "name": "python3"
  },
  "language_info": {
   "codemirror_mode": {
    "name": "ipython",
    "version": 3
   },
   "file_extension": ".py",
   "mimetype": "text/x-python",
   "name": "python",
   "nbconvert_exporter": "python",
   "pygments_lexer": "ipython3",
   "version": "3.11.5"
  }
 },
 "nbformat": 4,
 "nbformat_minor": 2
}
